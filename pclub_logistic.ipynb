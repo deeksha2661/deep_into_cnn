{
 "cells": [
  {
   "cell_type": "code",
   "execution_count": 1,
   "id": "electric-angola",
   "metadata": {},
   "outputs": [],
   "source": [
    "import numpy as np\n",
    "import csv\n",
    "import matplotlib.pyplot as plt"
   ]
  },
  {
   "cell_type": "code",
   "execution_count": 2,
   "id": "legendary-consolidation",
   "metadata": {},
   "outputs": [],
   "source": [
    "data = np.genfromtxt('diabetes2.csv', delimiter = ',', dtype = np.float64, skip_header = 1)"
   ]
  },
  {
   "cell_type": "code",
   "execution_count": 3,
   "id": "aerial-stretch",
   "metadata": {},
   "outputs": [
    {
     "data": {
      "text/plain": [
       "(768, 9)"
      ]
     },
     "execution_count": 3,
     "metadata": {},
     "output_type": "execute_result"
    }
   ],
   "source": [
    "data.shape"
   ]
  },
  {
   "cell_type": "code",
   "execution_count": 4,
   "id": "union-kuwait",
   "metadata": {},
   "outputs": [
    {
     "data": {
      "text/plain": [
       "153"
      ]
     },
     "execution_count": 4,
     "metadata": {},
     "output_type": "execute_result"
    }
   ],
   "source": [
    "test_size = int(0.2*data.shape[0])\n",
    "test_size"
   ]
  },
  {
   "cell_type": "code",
   "execution_count": 5,
   "id": "steady-sound",
   "metadata": {},
   "outputs": [],
   "source": [
    "np.random.seed(194)\n",
    "shuffle_idx = np.random.permutation(data.shape[0])"
   ]
  },
  {
   "cell_type": "code",
   "execution_count": 6,
   "id": "successful-convergence",
   "metadata": {},
   "outputs": [],
   "source": [
    "test_data, train_data = data[shuffle_idx[:test_size], :], data[shuffle_idx[test_size:], :]\n",
    "X = train_data[:, :-1].T\n",
    "Y = train_data[:, -1:].T\n",
    "test_X = test_data[:, :-1].T\n",
    "test_Y = test_data[:, -1:].T"
   ]
  },
  {
   "cell_type": "code",
   "execution_count": 7,
   "id": "disciplinary-speed",
   "metadata": {},
   "outputs": [
    {
     "name": "stdout",
     "output_type": "stream",
     "text": [
      "(8, 153) (1, 153) (8, 615) (1, 615)\n"
     ]
    }
   ],
   "source": [
    "print(test_X.shape, test_Y.shape, X.shape, Y.shape)\n",
    "n = X.shape[0]\n",
    "m = Y.shape[1]"
   ]
  },
  {
   "cell_type": "code",
   "execution_count": 8,
   "id": "designing-seven",
   "metadata": {},
   "outputs": [],
   "source": [
    "X_mean = np.mean(X, axis = 1, keepdims = True)\n",
    "X_max = np.max(X, axis = 1, keepdims = True)\n",
    "X_min = np.min(X, axis = 1, keepdims = True)\n",
    "\n",
    "X = (X-X_mean)/(X_max-X_min)\n",
    "test_X = (test_X-X_mean)/(X_max-X_mean)"
   ]
  },
  {
   "cell_type": "code",
   "execution_count": 9,
   "id": "threaded-eleven",
   "metadata": {},
   "outputs": [],
   "source": [
    "def sigmoid(X):\n",
    "    return 1/(1+np.exp(-X))\n",
    "\n",
    "def calc_accuracy(Y, A):\n",
    "    m = Y.shape[1]\n",
    "    pred_Y = np.zeros((1, m))\n",
    "    pred_Y = 1.*(A > 0.5)\n",
    "    correct = np.sum(1*(pred_Y == Y))/m\n",
    "    return correct"
   ]
  },
  {
   "cell_type": "code",
   "execution_count": 10,
   "id": "complimentary-nevada",
   "metadata": {},
   "outputs": [
    {
     "name": "stdout",
     "output_type": "stream",
     "text": [
      "Epoch = 0: (Loss: 0.6931471805599453, Correctness: 0.6504065040650406\n",
      "Epoch = 10: (Loss: 0.6030125641945855, Correctness: 0.7008130081300813\n",
      "Epoch = 20: (Loss: 0.5316435188236093, Correctness: 0.734959349593496\n",
      "Epoch = 30: (Loss: 0.5098228578507843, Correctness: 0.7609756097560976\n",
      "Epoch = 40: (Loss: 0.5035705856109673, Correctness: 0.7642276422764228\n",
      "Epoch = 50: (Loss: 0.5003527240539022, Correctness: 0.7626016260162601\n",
      "Epoch = 60: (Loss: 0.4983408507316428, Correctness: 0.7609756097560976\n",
      "Epoch = 70: (Loss: 0.49702976293460815, Correctness: 0.7626016260162601\n",
      "Epoch = 80: (Loss: 0.4961527875327152, Correctness: 0.767479674796748\n",
      "Epoch = 90: (Loss: 0.4955544456381588, Correctness: 0.767479674796748\n",
      "Epoch = 100: (Loss: 0.49513981058807655, Correctness: 0.7691056910569106\n",
      "Epoch = 110: (Loss: 0.4948488517441459, Correctness: 0.7691056910569106\n",
      "Epoch = 120: (Loss: 0.49464254972906624, Correctness: 0.7707317073170732\n",
      "Epoch = 130: (Loss: 0.4944949845828527, Correctness: 0.7723577235772358\n"
     ]
    },
    {
     "data": {
      "image/png": "[encoded data removed]",
      "text/plain": [
       "<Figure size 432x288 with 1 Axes>"
      ]
     },
     "metadata": {
      "needs_background": "light"
     },
     "output_type": "display_data"
    },
    {
     "data": {
      "image/png": "[encoded data removed]",
      "text/plain": [
       "<Figure size 432x288 with 1 Axes>"
      ]
     },
     "metadata": {
      "needs_background": "light"
     },
     "output_type": "display_data"
    }
   ],
   "source": [
    "W = np.zeros((n, 1))\n",
    "b = 0\n",
    "\n",
    "epochs = 150\n",
    "alpha = 10\n",
    "\n",
    "loss = []\n",
    "cost_old = np.Inf\n",
    "accuracy = []\n",
    "iterations = []\n",
    "\n",
    "for i in range(epochs):\n",
    "    Z = np.dot(W.T, X)+b\n",
    "    A = sigmoid(Z)   \n",
    "    \n",
    "    dZ = A - Y\n",
    "    dW = (1/m)*(np.dot(X, dZ.T))\n",
    "    db = (1/m)*(np.sum(dZ))\n",
    "    \n",
    "    W = W - alpha*dW\n",
    "    b = b - alpha*db\n",
    "    \n",
    "    cost = (-1./m)*np.sum(Y*np.log(A) + (1-Y)*np.log(1-A)) \n",
    "    correct = calc_accuracy(Y, A)\n",
    "    \n",
    "    if(abs(cost - cost_old) < 10**(-5)):\n",
    "        break\n",
    "    \n",
    "    cost_old = cost\n",
    "    \n",
    "    if(i%10 == 0):\n",
    "        iterations.append(i+1)\n",
    "        loss.append(cost)\n",
    "        accuracy.append(correct)\n",
    "        print(\"Epoch = \" + str(i) + \": (Loss: \"+ str(cost) + ', Correctness: ' + str(accuracy[-1]))\n",
    "    #print(cost, correct)\n",
    "\n",
    "plt.plot(iterations, loss)\n",
    "plt.title(\"Cost vs No. of epochs\")\n",
    "plt.show()\n",
    "plt.plot(iterations, accuracy)\n",
    "plt.title(\"Accuracy vs No. of epochs\")\n",
    "plt.show()"
   ]
  },
  {
   "cell_type": "code",
   "execution_count": 12,
   "id": "positive-delicious",
   "metadata": {},
   "outputs": [
    {
     "name": "stdout",
     "output_type": "stream",
     "text": [
      "Test Accuracy = 84.31372549019608 %\n"
     ]
    }
   ],
   "source": [
    "A = sigmoid(np.dot(W.T, test_X)+b)\n",
    "print(\"Test Accuracy = \" + str(calc_accuracy(test_Y, A)*100) + \" %\")\n"
   ]
  },
  {
   "cell_type": "code",
   "execution_count": null,
   "id": "protecting-radius",
   "metadata": {},
   "outputs": [],
   "source": []
  }
 ],
 "metadata": {
  "kernelspec": {
   "display_name": "Python 3",
   "language": "python",
   "name": "python3"
  },
  "language_info": {
   "codemirror_mode": {
    "name": "ipython",
    "version": 3
   },
   "file_extension": ".py",
   "mimetype": "text/x-python",
   "name": "python",
   "nbconvert_exporter": "python",
   "pygments_lexer": "ipython3",
   "version": "3.8.5"
  }
 },
 "nbformat": 4,
 "nbformat_minor": 5
}
